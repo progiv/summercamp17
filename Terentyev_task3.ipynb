{
 "cells": [
  {
   "cell_type": "markdown",
   "metadata": {},
   "source": [
    "## Задача:\n",
    "Пьяница стоит на краю утёса на расстоянии двух шагов и делает случайные\n",
    "шаги вперёд-назад (шаг назад с вероятностью $2/3$, шаг вперёд с вероятностью\n",
    "$1/3$). Какова вероятность того, что после $5$ шагов пьяница не свалился?\n",
    "Напишите функцию, принимающую $N$ и возвращающую вероятность того,\n",
    "что после этих $N$ шагов пьяница жив. Постройте график этой функции."
   ]
  },
  {
   "cell_type": "code",
   "execution_count": 1,
   "metadata": {
    "collapsed": true
   },
   "outputs": [],
   "source": [
    "cache = {}\n",
    "\n",
    "def fallDownProbability(n, pForward=1/3, distance=2):\n",
    "    def store(p):\n",
    "        cache[(n, distance)] = p\n",
    "        return p\n",
    "    \n",
    "    if (n, distance) in cache:\n",
    "        return cache[(n,distance)]\n",
    "    \n",
    "    if distance < 0:\n",
    "        return store(0)\n",
    "    if n==0 or n < distance:\n",
    "        return store(1)\n",
    "    \n",
    "    return store((1-pForward)*fallDownProbability(n-1, pForward, distance+1) +\n",
    "                     pForward*fallDownProbability(n-1, pForward, distance-1))"
   ]
  },
  {
   "cell_type": "code",
   "execution_count": 2,
   "metadata": {},
   "outputs": [
    {
     "name": "stdout",
     "output_type": "stream",
     "text": [
      "1\n",
      "1.0\n",
      "0.962962962962963\n",
      "0.962962962962963\n",
      "0.9382716049382718\n",
      "0.9382716049382718\n",
      "0.9218106995884776\n",
      "0.9218106995884776\n",
      "0.9104303205812125\n",
      "0.9104303205812125\n"
     ]
    }
   ],
   "source": [
    "n = 10\n",
    "for i in range(1, n+1):\n",
    "    print(fallDownProbability(i))"
   ]
  },
  {
   "cell_type": "markdown",
   "metadata": {},
   "source": [
    "Вероятности для $N = distance + 2k + 1$ и $N = 2k + 2$ совпадают. \n",
    "Потомучто если пьяница падает, то он делает $distance$ шагов в сторону пропасти и ещё $2k$. И вероятность такое сотворить одинаковая.\n",
    "В нашем случае $distance=2$"
   ]
  },
  {
   "cell_type": "code",
   "execution_count": 3,
   "metadata": {},
   "outputs": [
    {
     "data": {
      "image/png": "[encoded data removed]",
      "text/plain": [
       "<matplotlib.figure.Figure at 0x7fb44d066be0>"
      ]
     },
     "metadata": {},
     "output_type": "display_data"
    }
   ],
   "source": [
    "import matplotlib.pyplot as plt\n",
    "import seaborn # просто для красоты\n",
    "%matplotlib inline\n",
    "a = [fallDownProbability(i) for i in range(1, 40)]\n",
    "plt.plot(a)\n",
    "plt.xlabel('N')\n",
    "plt.ylabel('p')\n",
    "plt.title('Вероятность не свалиться через N шагов')\n",
    "plt.show()"
   ]
  }
 ],
 "metadata": {
  "kernelspec": {
   "display_name": "Python 3",
   "language": "python",
   "name": "python3"
  },
  "language_info": {
   "codemirror_mode": {
    "name": "ipython",
    "version": 3
   },
   "file_extension": ".py",
   "mimetype": "text/x-python",
   "name": "python",
   "nbconvert_exporter": "python",
   "pygments_lexer": "ipython3",
   "version": "3.5.3"
  }
 },
 "nbformat": 4,
 "nbformat_minor": 2
}
